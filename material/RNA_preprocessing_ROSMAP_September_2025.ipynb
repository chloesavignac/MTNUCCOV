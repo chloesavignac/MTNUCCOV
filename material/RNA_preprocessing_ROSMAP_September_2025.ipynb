{
 "cells": [
  {
   "cell_type": "code",
   "execution_count": 1,
   "id": "d310f398",
   "metadata": {},
   "outputs": [],
   "source": [
    "#clear all objects to save memory\n",
    "%reset"
   ]
  },
  {
   "cell_type": "code",
   "execution_count": 2,
   "id": "e3a894a9",
   "metadata": {},
   "outputs": [],
   "source": [
    "import scanpy as sc\n",
    "import numpy as np\n",
    "# import seaborn as sns\n",
    "# from matplotlib import pyplot as plt\n",
    "import anndata2ri\n",
    "import logging\n",
    "from scipy.sparse import issparse\n",
    "from tqdm import tqdm\n",
    "import os"
   ]
  },
  {
   "cell_type": "code",
   "execution_count": 3,
   "id": "c6d41de7-34b2-4e63-b9d2-72e06e7e9091",
   "metadata": {},
   "outputs": [],
   "source": [
    "import rpy2.rinterface_lib.callbacks as rcb\n",
    "import rpy2.robjects as ro\n",
    "\n",
    "import warnings\n",
    "warnings.simplefilter(action='ignore', category=FutureWarning)\n",
    "warnings.simplefilter(action='ignore', category=DeprecationWarning)\n",
    "\n",
    "from numba.core.errors import NumbaDeprecationWarning, NumbaPendingDeprecationWarning\n",
    "warnings.simplefilter('ignore', category=NumbaDeprecationWarning)\n",
    "warnings.simplefilter('ignore', category=NumbaPendingDeprecationWarning)\n",
    "\n",
    "sc.settings.verbosity = 0\n",
    "sc.settings.set_figure_params(\n",
    "    dpi=80,\n",
    "    facecolor=\"white\",\n",
    "    # color_map=\"YlGnBu\",\n",
    "    frameon=False,\n",
    ")\n",
    "\n",
    "rcb.logger.setLevel(logging.ERROR)\n",
    "ro.pandas2ri.activate()\n",
    "anndata2ri.activate()\n",
    "\n",
    "%load_ext rpy2.ipython"
   ]
  },
  {
   "cell_type": "code",
   "execution_count": 4,
   "id": "6ade5ee2",
   "metadata": {},
   "outputs": [],
   "source": [
    "with open('batch_list.txt') as f:\n",
    "    batch_list = f.readlines()\n",
    "    \n",
    "batches = []\n",
    "for i, b in enumerate(batch_list):\n",
    "    b = b.strip('/\\n')\n",
    "    # print(f\"Processing line {i}: {b}\")\n",
    "    batches.append(b)\n"
   ]
  },
  {
   "cell_type": "code",
   "execution_count": 5,
   "id": "2ffaa9b1",
   "metadata": {},
   "outputs": [
    {
     "name": "stdout",
     "output_type": "stream",
     "text": [
      "[1] ‘5.0.1’\n",
      "[1] ‘0.0.0.9021’\n",
      "[1] ‘0.4.1’\n"
     ]
    },
    {
     "data": {
      "text/plain": [
       "'value'"
      ]
     },
     "execution_count": 5,
     "metadata": {},
     "output_type": "execute_result"
    }
   ],
   "source": [
    "lib = '/home/bic/chloes/R/x86_64-pc-linux-gnu-library/4.3'\n",
    "%R -i lib print(packageVersion(\"Seurat\"))\n",
    "%R -i lib print(packageVersion(\"SeuratDisk\"))\n",
    "%R -i lib print(packageVersion(\"sctransform\"))"
   ]
  },
  {
   "cell_type": "code",
   "execution_count": 6,
   "id": "e181d5d3",
   "metadata": {},
   "outputs": [
    {
     "name": "stdout",
     "output_type": "stream",
     "text": [
      "[1] ‘1.33.0’\n"
     ]
    },
    {
     "data": {
      "text/plain": [
       "'value'"
      ]
     },
     "execution_count": 6,
     "metadata": {},
     "output_type": "execute_result"
    }
   ],
   "source": [
    "%R -i lib print(packageVersion(\"future\"))"
   ]
  },
  {
   "cell_type": "code",
   "execution_count": 7,
   "id": "ca676c6b",
   "metadata": {},
   "outputs": [
    {
     "data": {
      "text/plain": [
       "'value'"
      ]
     },
     "execution_count": 7,
     "metadata": {},
     "output_type": "execute_result"
    }
   ],
   "source": [
    "%R -i lib library(future)"
   ]
  },
  {
   "cell_type": "code",
   "execution_count": 8,
   "id": "6aced681",
   "metadata": {},
   "outputs": [
    {
     "name": "stdout",
     "output_type": "stream",
     "text": [
      "None\n"
     ]
    }
   ],
   "source": [
    "print(os.environ.get(\"OPENBLAS_NUM_THREADS\"))"
   ]
  },
  {
   "cell_type": "code",
   "execution_count": 9,
   "id": "0925a0ca",
   "metadata": {},
   "outputs": [
    {
     "name": "stdout",
     "output_type": "stream",
     "text": [
      "OPENBLAS_NUM_THREADS = None\n"
     ]
    }
   ],
   "source": [
    "print(\"OPENBLAS_NUM_THREADS =\", os.environ.get(\"OPENBLAS_NUM_THREADS\"))"
   ]
  },
  {
   "cell_type": "code",
   "execution_count": null,
   "id": "36e1accf",
   "metadata": {},
   "outputs": [],
   "source": [
    "import os\n",
    "os.environ[\"OPENBLAS_NUM_THREADS\"] = \"40\" # enable parallelism"
   ]
  },
  {
   "cell_type": "code",
   "execution_count": 11,
   "id": "c2a4cf08",
   "metadata": {},
   "outputs": [
    {
     "name": "stdout",
     "output_type": "stream",
     "text": [
      "\n",
      "    WARNING: The R package \"reticulate\" only fixed recently\n",
      "    an issue that caused a segfault when used with rpy2:\n",
      "    https://github.com/rstudio/reticulate/pull/1188\n",
      "    Make sure that you use a version of that package that includes\n",
      "    the fix.\n",
      "    "
     ]
    },
    {
     "data": {
      "text/plain": [
       "'value'"
      ]
     },
     "execution_count": 11,
     "metadata": {},
     "output_type": "execute_result"
    }
   ],
   "source": [
    "%R -i lib library(Seurat)\n",
    "%R -i lib library(SeuratDisk)\n",
    "%R -i lib library(sctransform)"
   ]
  },
  {
   "cell_type": "code",
   "execution_count": 12,
   "id": "3393a57e",
   "metadata": {},
   "outputs": [],
   "source": [
    "import pandas as pd"
   ]
  },
  {
   "cell_type": "code",
   "execution_count": 13,
   "id": "bd42af91",
   "metadata": {},
   "outputs": [],
   "source": [
    "# Load cell annotations\n",
    "annot = pd.read_csv('cell-annotation.csv')\n",
    "# Load cell type categories\n",
    "cells_cat = list(annot['cell.type'].unique())\n",
    "\n",
    "def overlap(lst1, lst2):\n",
    "    lst3 = [value for value in lst1 if value in lst2]\n",
    "    return lst3"
   ]
  },
  {
   "cell_type": "code",
   "execution_count": 14,
   "id": "9a1475f4",
   "metadata": {},
   "outputs": [
    {
     "name": "stderr",
     "output_type": "stream",
     "text": [
      "Loading genes: 100%|██████████| 16/16 [00:00<00:00, 552.96it/s]\n"
     ]
    },
    {
     "name": "stdout",
     "output_type": "stream",
     "text": [
      "8079 unique genes across celltypes\n"
     ]
    },
    {
     "name": "stderr",
     "output_type": "stream",
     "text": [
      "Computing overlap: 100%|██████████| 16/16 [00:00<00:00, 544.41it/s]"
     ]
    },
    {
     "name": "stdout",
     "output_type": "stream",
     "text": [
      "Endothelial: 7390 genes\n",
      "Current overlap: 7390\n",
      "Pericytes: 7337 genes\n",
      "Current overlap: 7337\n",
      "SMC: 7379 genes\n",
      "Current overlap: 7326\n",
      "Fibroblast: 7337 genes\n",
      "Current overlap: 7326\n",
      "Erythrocytes: 7246 genes\n",
      "Current overlap: 7235\n",
      "CD8+ T Cells: 6165 genes\n",
      "Current overlap: 6153\n",
      "Neutrophils: 6144 genes\n",
      "Current overlap: 5651\n",
      "NK Cells: 6578 genes\n",
      "Current overlap: 5441\n",
      "Macrophages: 7337 genes\n",
      "Current overlap: 5441\n",
      "Microglia: 8079 genes\n",
      "Current overlap: 5441\n",
      "Monocytes: 7302 genes\n",
      "Current overlap: 5440\n",
      "Astrocyte: 8079 genes\n",
      "Current overlap: 5440\n",
      "Inhibitory Neurons: 8079 genes\n",
      "Current overlap: 5440\n",
      "Excitatory Neurons: 8079 genes\n",
      "Current overlap: 5440\n",
      "OPCs: 8079 genes\n",
      "Current overlap: 5440\n",
      "Oligodendrocytes: 8079 genes\n",
      "Current overlap: 5440\n"
     ]
    },
    {
     "name": "stderr",
     "output_type": "stream",
     "text": [
      "\n"
     ]
    }
   ],
   "source": [
    "# Load all genes across cell types and get unique set\n",
    "unique_genes = set()\n",
    "for cell_type in tqdm(cells_cat, desc='Loading genes'):\n",
    "    genes_list = np.load(f'./ROSMAP_seurat_QC/by_cell_type/{cell_type}_genes_names.npy', allow_pickle=True)\n",
    "    unique_genes.update(genes_list)  # add all genes at once\n",
    "print(f'{len(unique_genes)} unique genes across celltypes')\n",
    "\n",
    "# Separate MT genes and nuclear genes\n",
    "MT_genes = sorted([gene for gene in unique_genes if gene.startswith('MT-')])\n",
    "nuc_genes = sorted(unique_genes - set(MT_genes))  # set difference for nuclear genes\n",
    "\n",
    "# Find overlap of genes across all cell types\n",
    "overlap_genes = unique_genes.copy()\n",
    "for cell_type in tqdm(cells_cat, desc='Computing overlap'):\n",
    "    genes_list = set(np.load(f'./ROSMAP_seurat_QC/by_cell_type/{cell_type}_genes_names.npy', allow_pickle=True))\n",
    "    print(f'{cell_type}: {len(genes_list)} genes')\n",
    "    overlap_genes &= genes_list  # set intersection\n",
    "    print(f'Current overlap: {len(overlap_genes)}')\n",
    "overlap_genes = sorted(overlap_genes)"
   ]
  },
  {
   "cell_type": "code",
   "execution_count": 15,
   "id": "2b798595",
   "metadata": {},
   "outputs": [
    {
     "data": {
      "text/plain": [
       "5440"
      ]
     },
     "execution_count": 15,
     "metadata": {},
     "output_type": "execute_result"
    }
   ],
   "source": [
    "len(overlap_genes)"
   ]
  },
  {
   "cell_type": "code",
   "execution_count": null,
   "id": "7d954254",
   "metadata": {},
   "outputs": [],
   "source": [
    "for batch in tqdm(batches):\n",
    "    # Construct the absolute path to the 10x data directory for this batch\n",
    "    path = os.path.abspath(f\"/home/bic/chloes/pool7_z2/ROSMAP_10x_organized/{batch}\")\n",
    "    \n",
    "    # Load 10x Genomics data into R (via rpy2 magic) as a Seurat-compatible object\n",
    "    %R -i path rosmap_data <- Read10X(data.dir = path)\n",
    "    %R seurat_object <- CreateSeuratObject(counts = rosmap_data)\n",
    "    \n",
    "    # ---------------- Pre-processing pipeline from Green et al., 2023 ----------------\n",
    "    # Store the percentage of mitochondrial reads in the Seurat object metadata\n",
    "    %R seurat_object <- PercentageFeatureSet(seurat_object, pattern = \"^MT-\", col.name = \"percent.mt\")\n",
    "    \n",
    "    # Remove genes with 0 counts across all cells\n",
    "    %R options(future.globals.maxSize = 80 * 1024^3)  # Allow up to 80 GB for future operations\n",
    "    %R plan(\"multicore\", workers = 1)  # Set parallelization to a single worker (multicore)\n",
    "    %R seurat_object = seurat_object[, unname(which(colSums(GetAssayData(seurat_object)) != 0))]\n",
    "    \n",
    "    # Perform SCTransform while regressing out mitochondrial percentage\n",
    "    # Only use overlapping genes as residual features\n",
    "    %R -i overlap_genes seurat_object <- SCTransform(seurat_object, residual.features = overlap_genes, vars.to.regress = \"percent.mt\", verbose = FALSE, conserve.memory = FALSE)\n",
    "\n",
    "    # Save SCT normalized data \n",
    "    %R seurat_object <- DietSeurat(object = seurat_object, counts = T, data = T, scale.data = F, assays = \"SCT\")\n",
    "    \n",
    "    # Define path \n",
    "    new_path = f'ROSMAP_seurat_QC_5440/{batch}_seurat_qc.h5Seurat'\n",
    "    \n",
    "    # Convert Seurat object to h5ad for Python compatibility\n",
    "    %R -i new_path as.h5Seurat(seurat_object, new_path, overwrite = TRUE, verbose = TRUE)\n",
    "    %R -i new_path SaveH5Seurat(seurat_object, filename = new_path, overwrite = TRUE)\n",
    "    %R -i new_path Convert(new_path, dest = \"h5ad\", overwrite = TRUE)\n",
    "    \n",
    "    # Clean up R environment to free memory before the next iteration\n",
    "    %R rm(list = ls())\n"
   ]
  }
 ],
 "metadata": {
  "kernelspec": {
   "display_name": "R4_copy",
   "language": "python",
   "name": "python3"
  },
  "language_info": {
   "codemirror_mode": {
    "name": "ipython",
    "version": 3
   },
   "file_extension": ".py",
   "mimetype": "text/x-python",
   "name": "python",
   "nbconvert_exporter": "python",
   "pygments_lexer": "ipython3",
   "version": "3.11.6"
  }
 },
 "nbformat": 4,
 "nbformat_minor": 5
}
